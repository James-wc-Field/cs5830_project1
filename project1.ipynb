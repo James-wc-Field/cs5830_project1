{
 "cells": [
  {
   "cell_type": "code",
   "execution_count": null,
   "id": "151d0b2b",
   "metadata": {
    "scrolled": true
   },
   "outputs": [],
   "source": [
    "import pandas as pd \n",
    "import seaborn as sns\n",
    "import matplotlib.pyplot as plt\n",
    "import statsmodels.api as sm\n",
    "from matplotlib.lines import Line2D\n",
    "\n",
    "\n"
   ]
  },
  {
   "cell_type": "markdown",
   "id": "86540861",
   "metadata": {},
   "source": [
    "# The goal of this analysis is to determine if being a left handed batter makes it more likly for you to get onto the allstar team."
   ]
  },
  {
   "cell_type": "code",
   "execution_count": null,
   "id": "54f5e0b6",
   "metadata": {},
   "outputs": [],
   "source": [
    "#Load in needed datasets\n",
    "\n",
    "allstar = pd.read_csv('baseball/core/AllstarFull.csv')\n",
    "\n",
    "batting = pd.read_csv('baseball/core/people.csv')\n"
   ]
  },
  {
   "cell_type": "code",
   "execution_count": null,
   "id": "a64a523b",
   "metadata": {},
   "outputs": [],
   "source": [
    "#Split batting up into left and right and remove unneeded data from csv files\n",
    "\n",
    "batting = batting[['playerID', 'bats']]\n",
    "\n",
    "left = batting[batting.bats == 'L']\n",
    "\n",
    "right = batting[batting.bats == 'R']\n",
    "\n",
    "allstar = allstar[['playerID']]"
   ]
  },
  {
   "cell_type": "code",
   "execution_count": null,
   "id": "70be2e72",
   "metadata": {},
   "outputs": [],
   "source": [
    "# getting % of left handded hitters vs right handed hitters\n",
    "\n",
    "leftPercent = len(left)/(len(left)+len(right))\n",
    "rightPercent = len(right)/(len(left)+len(right))\n",
    "\n",
    "print(\"Players who hit left handed \" + str(leftPercent) + \"%\")\n",
    "print(\"Players who hit right handed \" + str(rightPercent) + \"%\")"
   ]
  },
  {
   "cell_type": "code",
   "execution_count": null,
   "id": "8a8d8b6b",
   "metadata": {
    "scrolled": true
   },
   "outputs": [],
   "source": [
    "lefts = 0\n",
    "rights = 0\n",
    "\n",
    "for id in allstar['playerID']:\n",
    "    lefttest = left[left.playerID == id]\n",
    "    righttest = right[right.playerID == id]\n",
    "    \n",
    "    if not lefttest.empty:\n",
    "        lefts += 1\n",
    "        \n",
    "    if not righttest.empty:\n",
    "        rights += 1\n",
    "    \n",
    "        \n",
    "print(lefts)\n",
    "print(rights)"
   ]
  },
  {
   "cell_type": "code",
   "execution_count": null,
   "id": "81a96bfd",
   "metadata": {},
   "outputs": [],
   "source": [
    "leftPercentAS = lefts/(lefts+rights)\n",
    "rightPercentAS = rights/(lefts+rights)\n",
    "\n",
    "print(\"Players who hit left handed \" + str(leftPercentAS) + \"%\")\n",
    "print(\"Players who hit right handed \" + str(rightPercentAS) + \"%\")"
   ]
  },
  {
   "cell_type": "code",
   "execution_count": null,
   "id": "7936fb11",
   "metadata": {},
   "outputs": [],
   "source": [
    "data = {'labels': ['Right Handed', 'Left Handed'],\n",
    "        'values': [rightPercent, leftPercent]}\n",
    "df = pd.DataFrame(data)\n",
    "\n",
    "sns.set_style(\"whitegrid\")\n",
    "plt.figure(figsize=(6,6))\n",
    "plt.pie(df['values'], labels=df['labels'], autopct='%1.1f%%')\n",
    "plt.title('All Baseball ')\n",
    "plt.show()\n",
    "\n",
    "data = {'labels': ['Right Handed', 'Left Handed'],\n",
    "        'values': [rightPercentAS, leftPercentAS]}\n",
    "df = pd.DataFrame(data)\n",
    "\n",
    "sns.set_style(\"whitegrid\")\n",
    "plt.figure(figsize=(6,6))\n",
    "plt.pie(df['values'], labels=df['labels'], autopct='%1.1f%%')\n",
    "plt.title('Allstar Team')\n",
    "plt.show()"
   ]
  },
  {
   "cell_type": "markdown",
   "id": "2af5d704",
   "metadata": {},
   "source": [
    "# Do hall of fame players make more money?"
   ]
  },
  {
   "cell_type": "code",
   "execution_count": null,
   "id": "21e0a8bf",
   "metadata": {},
   "outputs": [],
   "source": [
    "hallOfFame = pd.read_csv('baseball/core/HallOfFame.csv')\n",
    "\n",
    "salaries = pd.read_csv('baseball/core/Salaries.csv')"
   ]
  }
 ],
 "metadata": {
  "kernelspec": {
   "display_name": "Python 3 (ipykernel)",
   "language": "python",
   "name": "python3"
  },
  "language_info": {
   "codemirror_mode": {
    "name": "ipython",
    "version": 3
   },
   "file_extension": ".py",
   "mimetype": "text/x-python",
   "name": "python",
   "nbconvert_exporter": "python",
   "pygments_lexer": "ipython3",
   "version": "3.11.4"
  }
 },
 "nbformat": 4,
 "nbformat_minor": 5
}
