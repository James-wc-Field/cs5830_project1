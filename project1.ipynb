{
 "cells": [
  {
   "cell_type": "code",
   "execution_count": null,
   "id": "151d0b2b",
   "metadata": {
    "scrolled": true
   },
   "outputs": [],
   "source": [
    "import pandas as pd \n",
    "import seaborn as sns\n",
    "import matplotlib.pyplot as plt\n",
    "import statsmodels.api as sm\n",
    "from matplotlib.lines import Line2D\n",
    "import os"
   ]
  },
  {
   "cell_type": "markdown",
   "id": "86540861",
   "metadata": {},
   "source": [
    "# Analysis 0 (James)\n",
    "# The goal of this analysis is to determine if being a left handed or switch batter makes it more likly for you to get onto an allstar team."
   ]
  },
  {
   "cell_type": "code",
   "execution_count": null,
   "id": "54f5e0b6",
   "metadata": {},
   "outputs": [],
   "source": [
    "#Load in needed datasets\n",
    "cwd = os.getcwd()\n",
    "allstar = pd.read_csv(os.path.join(cwd, 'baseball/core/AllstarFull.csv'))\n",
    "batting = pd.read_csv(os.path.join(cwd, 'baseball/core/People.csv'))"
   ]
  },
  {
   "cell_type": "code",
   "execution_count": null,
   "id": "a64a523b",
   "metadata": {},
   "outputs": [],
   "source": [
    "# Split batting up into left, right and switch and remove unneeded data from the csv files\n",
    "batting = batting[['playerID', 'bats']]\n",
    "left = batting[batting.bats == 'L']\n",
    "right = batting[batting.bats == 'R']\n",
    "both = batting[batting.bats == 'B']\n",
    "allstar = allstar[['playerID']]"
   ]
  },
  {
   "cell_type": "code",
   "execution_count": null,
   "id": "70be2e72",
   "metadata": {},
   "outputs": [],
   "source": [
    "# getting % of left handded hitters vs right handed hitters vs switch hitters\n",
    "all = len(left) + len(right) + len(both)\n",
    "\n",
    "leftPercent = len(left)/(all)\n",
    "rightPercent = len(right)/(all)\n",
    "bothPercent = len(both)/(all)\n",
    "# print(\"Players who hit left handed \" + str(leftPercent) + \"%\")\n",
    "# print(\"Players who hit right handed \" + str(rightPercent) + \"%\")\n",
    "# print(\"Players who hit with bowheads \" + str(bothPercent) + \"%\")"
   ]
  },
  {
   "cell_type": "code",
   "execution_count": null,
   "id": "8a8d8b6b",
   "metadata": {
    "scrolled": true
   },
   "outputs": [],
   "source": [
    "# gets left, right and switch hitters that are on a allstar team\n",
    "lefts = 0\n",
    "rights = 0\n",
    "switch = 0\n",
    "\n",
    "for id in allstar['playerID']:\n",
    "    lefttest = left[left.playerID == id]\n",
    "    righttest = right[right.playerID == id]\n",
    "    switches = both[both.playerID == id]\n",
    "    \n",
    "    if not lefttest.empty:\n",
    "        lefts += 1\n",
    "        \n",
    "    if not righttest.empty:\n",
    "        rights += 1\n",
    "        \n",
    "    if not switches.empty:\n",
    "        switch += 1\n",
    "    \n",
    "# print(lefts)\n",
    "# print(rights)\n",
    "# print(switch)"
   ]
  },
  {
   "cell_type": "code",
   "execution_count": null,
   "id": "81a96bfd",
   "metadata": {},
   "outputs": [],
   "source": [
    "# get percentages on the all star team\n",
    "leftPercentAS = lefts/(lefts+rights+switch)\n",
    "rightPercentAS = rights/(lefts+rights+switch)\n",
    "switchPercentAS = switch/(lefts+rights+switch)\n",
    "\n",
    "# print(\"Players who hit left handed \" + str(leftPercentAS) + \"%\")\n",
    "# print(\"Players who hit right handed \" + str(rightPercentAS) + \"%\")\n",
    "# print(\"Players who hit switch handed \" + str(switchPercentAS) + \"%\")"
   ]
  },
  {
   "cell_type": "code",
   "execution_count": null,
   "id": "7936fb11",
   "metadata": {
    "scrolled": false
   },
   "outputs": [],
   "source": [
    "# GRAPHS\n",
    "data = {'labels': ['Right Handed', 'Left Handed', 'Switch'],\n",
    "        'values': [rightPercent, leftPercent, bothPercent]}\n",
    "df = pd.DataFrame(data)\n",
    "\n",
    "sns.set_style(\"whitegrid\")\n",
    "plt.figure(figsize=(6,6))\n",
    "plt.pie(df['values'], labels=df['labels'], autopct='%1.1f%%')\n",
    "plt.title('All Baseball ')\n",
    "plt.show()\n",
    "\n",
    "data = {'labels': ['Right Handed', 'Left Handed', \"Switch\"],\n",
    "        'values': [rightPercentAS, leftPercentAS, switchPercentAS]}\n",
    "df = pd.DataFrame(data)\n",
    "\n",
    "sns.set_style(\"whitegrid\")\n",
    "plt.figure(figsize=(6,6))\n",
    "plt.pie(df['values'], labels=df['labels'], autopct='%1.1f%%')\n",
    "plt.title('Allstar Team')\n",
    "plt.show()"
   ]
  },
  {
   "cell_type": "markdown",
   "id": "e4fc7931",
   "metadata": {},
   "source": [
    "### Looking at the data it seems that players are more likley to get onto an allstar team if they hit left handed or switch\n",
    "### END"
   ]
  },
  {
   "cell_type": "markdown",
   "id": "2af5d704",
   "metadata": {},
   "source": [
    "### Analysis 2 (James)\n",
    "# Do hall of fame players make more money?"
   ]
  },
  {
   "cell_type": "code",
   "execution_count": null,
   "id": "463ff424",
   "metadata": {},
   "outputs": [],
   "source": [
    "#loading datasets and removing bloatware (bloatdata?)\n",
    "\n",
    "hall_Fame = pd.read_csv('baseball/core/HallOfFame.csv')\n",
    "salaries = pd.read_csv('baseball/core/Salaries.csv')\n",
    "salaries = salaries[['yearID', 'playerID', 'salary']]\n",
    "hall_Fame = hall_Fame[['playerID']]\n",
    "\n",
    "# gets the salaries and years of each player in the hall of fame and puts it into its own data frame\n",
    "hf_years = []\n",
    "hf_salaries = []\n",
    "\n",
    "for hf_player in hall_Fame.playerID:\n",
    "    if not salaries[salaries['playerID'] == hf_player].empty:\n",
    "        # these lines get the salaries and years of all the hall of fame players\n",
    "        for year in salaries[salaries['playerID'] == hf_player].yearID:\n",
    "            hf_years.append(year)\n",
    "        for sal in salaries[salaries['playerID'] == hf_player].salary:\n",
    "            hf_salaries.append(sal)\n",
    "        # this line removes hall of fame players from the salaries pool\n",
    "        salaries = salaries.drop(salaries[salaries.playerID == hf_player].index)\n",
    "            \n",
    "# these lines make the years and salaries of hall of fame players into a csv\n",
    "hf_dict = {'yearID': hf_years, 'salaries': hf_salaries}\n",
    "hf_year_sal = pd.DataFrame(hf_dict)"
   ]
  },
  {
   "cell_type": "code",
   "execution_count": null,
   "id": "32e73e45",
   "metadata": {},
   "outputs": [],
   "source": [
    "# take average salaries of both and graph them for each year on a line graph\n",
    "startYear = 1985\n",
    "endYear = 2012\n",
    "\n",
    "x = startYear\n",
    "hallFamePlayers = []\n",
    "normalPlayers = []\n",
    "y = 0\n",
    "while y < 1985:\n",
    "    hallFamePlayers.append(0)\n",
    "    normalPlayers.append(0)\n",
    "    y+=1\n",
    "\n",
    "while x <= endYear:\n",
    "    i = 0\n",
    "    j = 0\n",
    "    for item in salaries[salaries['yearID'] == x].salary:\n",
    "        i+=1\n",
    "        j+=item\n",
    "    normalPlayers.append(j / i)\n",
    "    x+=1\n",
    "    \n",
    "x = startYear\n",
    "\n",
    "while x <= endYear:\n",
    "    i = 0\n",
    "    j = 0\n",
    "    for item in hf_year_sal[hf_year_sal['yearID'] == x].salaries:\n",
    "        i+=1\n",
    "        j+=item\n",
    "        \n",
    "    hallFamePlayers.append(j / i)\n",
    "    x+=1"
   ]
  },
  {
   "cell_type": "code",
   "execution_count": null,
   "id": "559a17c1",
   "metadata": {},
   "outputs": [],
   "source": [
    "# GRAPH\n",
    "\n",
    "plt.plot(hallFamePlayers)\n",
    "plt.plot(normalPlayers)\n",
    "plt.xlim(1985, 2012)\n",
    "plt.ylim(0, 10000000)\n",
    "plt.ticklabel_format(scilimits=(-5, 8))\n",
    "plt.ylabel('Income')\n",
    "plt.xlabel('Year')\n",
    "\n",
    "plt.legend([\"Hall of Fame Players\", \"Other Players\"])\n",
    "plt.show()"
   ]
  },
  {
   "cell_type": "markdown",
   "id": "a5d5eb18",
   "metadata": {},
   "source": [
    "### Looking at the data it is clear that on average baseball players who make it into the hall of fame get paid more than those who don't."
   ]
  },
  {
   "cell_type": "markdown",
   "id": "b7125456",
   "metadata": {},
   "source": [
    "# Analysis: which team makes the most money?\n",
    "## Will a better team make more money?\n",
    "## Win/Loss ratio vs. Attendance"
   ]
  },
  {
   "cell_type": "markdown",
   "id": "31c24c09",
   "metadata": {},
   "source": [
    "# -------------------------------------------\n",
    "# Analysis 3 (Karl)\n",
    "## Do Better performing teams have more fans?"
   ]
  },
  {
   "cell_type": "code",
   "execution_count": null,
   "id": "5e613bce",
   "metadata": {},
   "outputs": [],
   "source": [
    "df = pd.read_csv('baseball/core/Teams.csv')\n",
    "# print(df.columns)\n",
    "\n",
    "# calculate win ratio, group by teamID, and sort by attendance\n",
    "df = df[['yearID', 'teamID', 'attendance', 'W', 'L']]\n",
    "df['win_ratio'] = df['W'] / (df['W'] + df['L'])\n",
    "df.drop(['W', 'L'], axis=1, inplace=True)\n",
    "df.groupby('teamID').mean()\n",
    "df.sort_values(by='attendance', ascending=False, inplace=True)\n",
    "\n",
    "# drop rows with NaN\n",
    "df.dropna(inplace=True)\n",
    "# print(df.head(20))\n",
    "\n",
    "# Standardize attendance by z-score\n",
    "df['attendance'] = (df['attendance'] - df['attendance'].mean()) / df['attendance'].std()\n"
   ]
  },
  {
   "cell_type": "code",
   "execution_count": null,
   "id": "91d55222",
   "metadata": {},
   "outputs": [],
   "source": [
    "# Do the two variables correlate?\n",
    "correlation = df['attendance'].corr(df['win_ratio'])\n",
    "print(\"correlation: \" + str(correlation))"
   ]
  },
  {
   "cell_type": "markdown",
   "id": "d54c4634",
   "metadata": {},
   "source": [
    "Correlation between attendance and win ratio: 0.2444924229670346 <br>\n",
    "The low positive correlation suggests that there is a weak relationship between the two variables. <br>\n",
    "The correlation is calculated using df.corr(), which uses Pearson correlation coefficient."
   ]
  },
  {
   "cell_type": "code",
   "execution_count": null,
   "id": "67ebb44c",
   "metadata": {},
   "outputs": [],
   "source": [
    "# Print the regression summary (p-value, t-statistic, etc.)\n",
    "X = df['attendance']\n",
    "y = df['win_ratio']\n",
    "model = sm.OLS(y, X).fit()\n",
    "print(model.summary())\n",
    "print('\\nThe p-value is 0.040, which is less than 0.05, so we can reject the null hypothesis.')\n",
    "print('This means that there is a statistically significant relationship between the two variables.')"
   ]
  },
  {
   "cell_type": "code",
   "execution_count": null,
   "id": "92a17a9d",
   "metadata": {},
   "outputs": [],
   "source": [
    "# plot\n",
    "sns.set(style='darkgrid')\n",
    "sns.relplot(\n",
    "            x='attendance', \n",
    "            y='win_ratio', \n",
    "            size=1, \n",
    "            height=10,\n",
    "            aspect=2,\n",
    "            legend=False,\n",
    "            data=df\n",
    "            )\n",
    "\n",
    "legend_elements = [Line2D([0], [0], marker='o', color='w', label='Team', markerfacecolor='blue', markersize=10),\n",
    "]\n",
    "\n",
    "plt.xlabel('Attendance (z-score)')\n",
    "plt.ylabel('Win Ratio')\n",
    "plt.legend(handles=legend_elements, title='Mean team win-ratio \\n each year', loc='upper left', bbox_to_anchor=(1, 1), ncol=5)\n",
    "plt.title('Attendance vs. Win Ratio')\n",
    "\n",
    "\n"
   ]
  },
  {
   "cell_type": "markdown",
   "id": "2fc03145",
   "metadata": {},
   "source": [
    "### Conclusion: There is a weak positive correlation between attendance and win ratio.\n",
    "### END"
   ]
  },
  {
   "cell_type": "markdown",
   "id": "40b2ae92",
   "metadata": {},
   "source": [
    "# -----------------------------------------\n",
    "## Analysis 4 (Karl)\n",
    "## Which team variables influence their wing/loss ratio?"
   ]
  },
  {
   "cell_type": "code",
   "execution_count": null,
   "id": "b61a0407",
   "metadata": {},
   "outputs": [],
   "source": [
    "\n",
    "import statistics\n",
    "import pandas as pd \n",
    "import seaborn as sns\n",
    "import matplotlib.pyplot as plt\n",
    "import statsmodels.api as sm\n",
    "from matplotlib.lines import Line2D\n",
    "\n",
    "df = pd.read_csv('baseball/core/Teams.csv')\n",
    "# print(df.columns)\n",
    "\n",
    "\"\"\" \n",
    "Analysis \n",
    "Out of all the team variables, which \n",
    "variable was the strongest at predicting a winning team?\n",
    "\"\"\"\n",
    "\n",
    "# Runs scored (R), At Bat (AB), Hits (H), Doubles (2B), Triples (3B), Homeruns (HR)\n",
    "# Walks (BB), Strikeouts (SO), Stolen Bases (SB), Caught Stealing (CS), Hit by Pitch (HBP)\n",
    "# Sacrifice Flies (SF), Runs Allowed (RA), Earned Runs Allowed (ER), Earned Run Average (ERA)\n",
    "# Complete Games (CG), Shutouts (SHO), Saves (SV), Outs Pitched (IPouts), Hits Allowed (HA)\n",
    "# Homeruns Allowed (HRA), Walks Allowed (BBA), Strikeouts Allowed (SOA), Errors (E), Double Plays (DP)\n",
    "# Fielding Percentage (FP)\n",
    "variables = ['yearID', 'teamID', 'R', 'AB', 'H', '2B', '3B', 'HR', \n",
    "             'BB', 'SO', 'SB', 'CS', 'HBP', 'SF', 'RA', 'ER', 'ERA', 'CG',\n",
    "             'SHO', 'SV', 'IPouts', 'HA', 'HRA', 'BBA', 'SOA', 'E', 'DP', 'FP']\n",
    "\n",
    "baseballTranslation = {'yearID': 'Year', 'teamID': 'Team', 'R': 'Runs', 'AB': 'At Bat', 'H': 'Hits', '2B': 'Doubles', '3B': 'Triples', 'HR': 'Homeruns',\n",
    "                       'BB': 'Walks', 'SO': 'Strikeouts', 'SB': 'Stolen Bases', 'CS': 'Caught Stealing', 'HBP': 'Hit by Pitch', 'SF': 'Sacrifice Flies',\n",
    "                       'RA': 'Runs Allowed', 'ER': 'Earned Runs Allowed', 'ERA': 'Earned Run Average', 'CG': 'Complete Games', 'SHO': 'Shutouts', 'SV': 'Saves',\n",
    "                       'IPouts': 'Outs Pitched', 'HA': 'Hits Allowed', 'HRA': 'Homeruns Allowed', 'BBA': 'Walks Allowed', 'SOA': 'Strikeouts Allowed',\n",
    "                       'E': 'Errors', 'DP': 'Double Plays', 'FP': 'Fielding Percentage'}\n",
    "\n",
    "\n",
    "# calculate win ratio, group by teamID. wr=win_ratio\n",
    "wr = df[['yearID', 'teamID', 'W', 'L']]\n",
    "wr['win_ratio'] = wr['W'] / (wr['W'] + wr['L'])\n",
    "wr.drop(['W', 'L'], axis=1, inplace=True)\n",
    "wr.groupby('teamID').mean()\n",
    "# print(wr.head(10))\n",
    "\n",
    "\"\"\"calculate stolen base ratio, group by teamID. \n",
    "sb=stolen_bases \"\"\"\n",
    "winningVars = df[variables]\n",
    "merge = pd.merge(wr, winningVars, how='inner', on=['yearID', 'teamID'])\n",
    "merge.dropna(inplace=True)\n",
    "\n",
    "\"\"\"z-score standardize both win_ratio and stolen_base_ratio\"\"\"\n",
    "merge['win_ratio'] = (merge['win_ratio'] - merge['win_ratio'].mean()) / merge['win_ratio'].std()\n",
    "for var in variables[2:]:\n",
    "    merge[var] = (merge[var] - merge[var].mean()) / merge[var].std()\n",
    "\n",
    "\"\"\" For each variable, calculate the correlation with win_ratio \"\"\"\n",
    "corrStats = baseballTranslation.copy()\n",
    "dicts2 = {}\n",
    "for var in variables[2:]:\n",
    "      corrStats[var] = merge['win_ratio'].corr(merge[var])\n",
    "      dicts2[baseballTranslation[var]] = merge['win_ratio'].corr(merge[var])\n",
    "\n",
    "# convert corrStats to dataframe\n",
    "df = pd.DataFrame(list(dicts2.items()), columns=['variable', 'correlation'])\n",
    "df.sort_values(by='correlation', inplace=True)\n",
    "print(df)\n",
    "\n",
    "# plot\n",
    "sns.set(style='darkgrid')\n",
    "custom_palette = sns.color_palette(\"coolwarm\", len(df))\n",
    "sns.barplot(\n",
    "            data = df,\n",
    "            x='variable',\n",
    "            y='correlation', \n",
    "            palette=custom_palette\n",
    "            )\n",
    "\n",
    "plt.xlabel('Team Variables')\n",
    "plt.ylabel('Win Ratio')\n",
    "plt.xticks(rotation=90)\n",
    "plt.grid(axis='both', linestyle='-', linewidth='0.5', color='black')\n",
    "plt.title('Team Variables vs. Win Ratio')\n",
    "\n",
    "\n",
    "print(\"\"\"\n",
    "    Strong Positive Correlations:\n",
    "        Runs (0.4519): As expected, the number of runs scored has a positive correlation with the win ratio. \n",
    "        Saves (0.4798): Successful relief pitching and closing out games contribute to victories.\n",
    "        Shutouts (0.4267): This indicates the importance of strong pitching performances in preventing the opposing team from scoring.\n",
    "\n",
    "    Moderate Positive Correlations:\n",
    "        Earned Run Average (ERA) (-0.5149): Interestingly, \n",
    "            the negative correlation with ERA indicates that a lower \n",
    "            ERA is associated with a higher win ratio. Good pitching, as \n",
    "            reflected in a lower ERA, is crucial for success.\n",
    "        Fielding Percentage (0.2899): While not extremely strong, the positive correlation with \n",
    "            fielding percentage suggests that better fielding performance is associated with a \n",
    "            higher win ratio. Avoiding errors and making defensive plays contribute to team success.\n",
    "\n",
    "    Weaker Correlations:\n",
    "        Hits Allowed (-0.3181): A negative correlation suggests that teams allowing fewer \n",
    "            hits have a higher win ratio. This emphasizes the importance of strong pitching and defense.\n",
    "        Walks Allowed (-0.3960): The negative correlation indicates that teams allowing \n",
    "            fewer walks tend to have a higher win ratio. Control on the mound is associated with success.\n",
    "        Errors (-0.2560): The negative correlation with errors suggests that teams \n",
    "            making fewer defensive errors tend to have a higher win ratio. Defensive reliability is important.\n",
    "\"\"\")\n",
    "\n",
    "\n"
   ]
  },
  {
   "cell_type": "markdown",
   "id": "96eca4d3",
   "metadata": {},
   "source": [
    "### END"
   ]
  }
 ],
 "metadata": {
  "kernelspec": {
   "display_name": "Python 3 (ipykernel)",
   "language": "python",
   "name": "python3"
  },
  "language_info": {
   "codemirror_mode": {
    "name": "ipython",
    "version": 3
   },
   "file_extension": ".py",
   "mimetype": "text/x-python",
   "name": "python",
   "nbconvert_exporter": "python",
   "pygments_lexer": "ipython3",
   "version": "3.11.6"
  }
 },
 "nbformat": 4,
 "nbformat_minor": 5
}
