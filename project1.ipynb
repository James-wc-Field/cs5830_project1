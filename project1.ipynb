{
 "cells": [
  {
   "cell_type": "code",
   "execution_count": null,
   "id": "151d0b2b",
   "metadata": {
    "scrolled": true
   },
   "outputs": [],
   "source": [
    "# all imports once at the begining\n",
    "\n",
    "import pandas as pd \n",
    "import seaborn as sns\n",
    "import matplotlib.pyplot as plt\n",
    "import statsmodels.api as sm\n",
    "from matplotlib.lines import Line2D\n"
   ]
  },
  {
   "cell_type": "markdown",
   "id": "86540861",
   "metadata": {},
   "source": [
    "# The goal of this analysis is to determine if being a left handed batter makes it more likly for you to get onto the allstar team."
   ]
  },
  {
   "cell_type": "code",
   "execution_count": null,
   "id": "54f5e0b6",
   "metadata": {},
   "outputs": [],
   "source": [
    "#Load in needed datasets\n",
    "\n",
    "allstar = pd.read_csv('baseball/core/AllstarFull.csv')\n",
    "\n",
    "batting = pd.read_csv('baseball/core/people.csv')\n"
   ]
  },
  {
   "cell_type": "code",
   "execution_count": null,
   "id": "a64a523b",
   "metadata": {},
   "outputs": [],
   "source": [
    "#Split batting up into left, right and switch and remove unneeded data from the csv files\n",
    "\n",
    "batting = batting[['playerID', 'bats']]\n",
    "\n",
    "left = batting[batting.bats == 'L']\n",
    "\n",
    "right = batting[batting.bats == 'R']\n",
    "\n",
    "both = batting[batting.bats == 'B']\n",
    "\n",
    "allstar = allstar[['playerID']]"
   ]
  },
  {
   "cell_type": "code",
   "execution_count": null,
   "id": "70be2e72",
   "metadata": {},
   "outputs": [],
   "source": [
    "# getting % of left handded hitters vs right handed hitters vs switch hitters\n",
    "\n",
    "leftPercent = len(left)/(len(left)+len(right)+len(both))\n",
    "rightPercent = len(right)/(len(left)+len(right)+len(both))\n",
    "bothPercent = len(both)/(len(left)+len(right)+len(both))\n",
    "\n",
    "# print(\"Players who hit left handed \" + str(leftPercent) + \"%\")\n",
    "# print(\"Players who hit right handed \" + str(rightPercent) + \"%\")\n",
    "# print(\"Players who hit with bothhands \" + str(bothPercent) + \"%\")"
   ]
  },
  {
   "cell_type": "code",
   "execution_count": null,
   "id": "8a8d8b6b",
   "metadata": {
    "scrolled": true
   },
   "outputs": [],
   "source": [
    "# gets left, right and switch hitters that are on a allstar team\n",
    "\n",
    "lefts = 0\n",
    "rights = 0\n",
    "switch = 0\n",
    "\n",
    "\n",
    "for id in allstar['playerID']:\n",
    "    lefttest = left[left.playerID == id]\n",
    "    righttest = right[right.playerID == id]\n",
    "    switches = both[both.playerID == id]\n",
    "    \n",
    "    if not lefttest.empty:\n",
    "        lefts += 1\n",
    "        \n",
    "    if not righttest.empty:\n",
    "        rights += 1\n",
    "        \n",
    "    if not switches.empty:\n",
    "        switch += 1\n",
    "    \n",
    "        \n",
    "# print(lefts)\n",
    "# print(rights)\n",
    "# print(switch)"
   ]
  },
  {
   "cell_type": "code",
   "execution_count": null,
   "id": "81a96bfd",
   "metadata": {},
   "outputs": [],
   "source": [
    "# get percentages on the all star team\n",
    "\n",
    "leftPercentAS = lefts/(lefts+rights+switch)\n",
    "rightPercentAS = rights/(lefts+rights+switch)\n",
    "switchPercentAS = switch/(lefts+rights+switch)\n",
    "\n",
    "# print(\"Players who hit left handed \" + str(leftPercentAS) + \"%\")\n",
    "# print(\"Players who hit right handed \" + str(rightPercentAS) + \"%\")\n",
    "# print(\"Players who hit switch handed \" + str(switchPercentAS) + \"%\")"
   ]
  },
  {
   "cell_type": "code",
   "execution_count": null,
   "id": "7936fb11",
   "metadata": {
    "scrolled": false
   },
   "outputs": [],
   "source": [
    "# GRAPHS\n",
    "\n",
    "data = {'labels': ['Right Handed', 'Left Handed', 'Switch'],\n",
    "        'values': [rightPercent, leftPercent, bothPercent]}\n",
    "df = pd.DataFrame(data)\n",
    "\n",
    "sns.set_style(\"whitegrid\")\n",
    "plt.figure(figsize=(6,6))\n",
    "plt.pie(df['values'], labels=df['labels'], autopct='%1.1f%%')\n",
    "plt.title('All Baseball ')\n",
    "plt.show()\n",
    "\n",
    "data = {'labels': ['Right Handed', 'Left Handed', \"Switch\"],\n",
    "        'values': [rightPercentAS, leftPercentAS, switchPercentAS]}\n",
    "df = pd.DataFrame(data)\n",
    "\n",
    "sns.set_style(\"whitegrid\")\n",
    "plt.figure(figsize=(6,6))\n",
    "plt.pie(df['values'], labels=df['labels'], autopct='%1.1f%%')\n",
    "plt.title('Allstar Team')\n",
    "plt.show()"
   ]
  },
  {
   "cell_type": "markdown",
   "id": "e4fc7931",
   "metadata": {},
   "source": [
    "### Looking at the data it seems that players are more likley to get onto an allstar team if they hit left handed or switch"
   ]
  },
  {
   "cell_type": "markdown",
   "id": "2af5d704",
   "metadata": {},
   "source": [
    "# Do hall of fame players make more money?"
   ]
  },
  {
   "cell_type": "code",
   "execution_count": null,
   "id": "463ff424",
   "metadata": {},
   "outputs": [],
   "source": [
    "#loading datasets and removing bloatware (bloatdata?)\n",
    "\n",
    "hall_Fame = pd.read_csv('baseball/core/HallOfFame.csv')\n",
    "\n",
    "salaries = pd.read_csv('baseball/core/Salaries.csv')\n",
    "\n",
    "salaries = salaries[['yearID', 'playerID', 'salary']]\n",
    "\n",
    "hall_Fame = hall_Fame[['playerID']]\n",
    "\n",
    "\n",
    "\n",
    "# gets the salaries and years of each player in the hall of fame and puts it into its own data frame\n",
    "\n",
    "hf_years = []\n",
    "hf_salaries = []\n",
    "\n",
    "\n",
    "\n",
    "for hf_player in hall_Fame.playerID:\n",
    "    if not salaries[salaries['playerID'] == hf_player].empty:\n",
    "        \n",
    "        # these lines get the salaries and years of all the hall of fame players\n",
    "        for year in salaries[salaries['playerID'] == hf_player].yearID:\n",
    "            hf_years.append(year)\n",
    "        for sal in salaries[salaries['playerID'] == hf_player].salary:\n",
    "            hf_salaries.append(sal)\n",
    "            \n",
    "        # this line removes hall of fame players from the salaries pool\n",
    "        salaries = salaries.drop(salaries[salaries.playerID == hf_player].index)\n",
    "            \n",
    "        \n",
    "            \n",
    "            \n",
    "# these lines make the years and salaries of hall of fame players into a csv\n",
    "hf_dict = {'yearID': hf_years, 'salaries': hf_salaries}\n",
    "\n",
    "hf_year_sal = pd.DataFrame(hf_dict)\n",
    " "
   ]
  },
  {
   "cell_type": "code",
   "execution_count": null,
   "id": "32e73e45",
   "metadata": {},
   "outputs": [],
   "source": [
    "# take average salaries of both and graph them for each year on a line graph\n",
    "\n",
    "        \n",
    "startYear = 1985\n",
    "endYear = 2012\n",
    "\n",
    "x = startYear\n",
    "hallFamePlayers = []\n",
    "normalPlayers = []\n",
    "y = 0\n",
    "while y < 1985:\n",
    "    hallFamePlayers.append(0)\n",
    "    normalPlayers.append(0)\n",
    "    y+=1\n",
    "\n",
    "while x <= endYear:\n",
    "    i = 0\n",
    "    j = 0\n",
    "    for item in salaries[salaries['yearID'] == x].salary:\n",
    "        i+=1\n",
    "        j+=item\n",
    "        \n",
    "    normalPlayers.append(j / i)\n",
    "    x+=1\n",
    "    \n",
    "    \n",
    "x = startYear\n",
    "\n",
    "while x <= endYear:\n",
    "    i = 0\n",
    "    j = 0\n",
    "    for item in hf_year_sal[hf_year_sal['yearID'] == x].salaries:\n",
    "        i+=1\n",
    "        j+=item\n",
    "        \n",
    "    hallFamePlayers.append(j / i)\n",
    "    x+=1\n",
    "\n",
    "\n"
   ]
  },
  {
   "cell_type": "code",
   "execution_count": null,
   "id": "559a17c1",
   "metadata": {},
   "outputs": [],
   "source": [
    "# GRAPH\n",
    "\n",
    "plt.plot(hallFamePlayers)\n",
    "plt.plot(normalPlayers)\n",
    "plt.xlim(1985, 2012)\n",
    "plt.ylim(0, 10000000)\n",
    "plt.ticklabel_format(scilimits=(-5, 8))\n",
    "plt.ylabel('Income')\n",
    "plt.xlabel('Year')\n",
    "\n",
    "plt.legend([\"Hall of Fame Players\", \"Other Players\"])\n",
    "\n",
    "\n",
    "plt.show()"
   ]
  },
  {
   "cell_type": "markdown",
   "id": "a5d5eb18",
   "metadata": {},
   "source": [
    "### Looking at the data it is clear that on average baseball players who make it into the hall of fame get paid more than those who don't."
   ]
  },
  {
   "cell_type": "markdown",
   "id": "b7125456",
   "metadata": {},
   "source": [
    "# Analysis: which team makes the most money?\n",
    "## Will a better team make more money?\n",
    "## Win/Loss ratio vs. Attendance"
   ]
  },
  {
   "cell_type": "code",
   "execution_count": null,
   "id": "5e613bce",
   "metadata": {},
   "outputs": [],
   "source": [
    "df = pd.read_csv('baseball/core/Teams.csv')\n",
    "# print(df.columns)\n",
    "\n",
    "# calculate win ratio, group by teamID, and sort by attendance\n",
    "df = df[['yearID', 'teamID', 'attendance', 'W', 'L']]\n",
    "df['win_ratio'] = df['W'] / (df['W'] + df['L'])\n",
    "df.drop(['W', 'L'], axis=1, inplace=True)\n",
    "df.groupby('teamID').mean()\n",
    "df.sort_values(by='attendance', ascending=False, inplace=True)\n",
    "\n",
    "# drop rows with NaN\n",
    "df.dropna(inplace=True)\n",
    "# print(df.head(20))\n",
    "\n",
    "# Standardize attendance by z-score\n",
    "df['attendance'] = (df['attendance'] - df['attendance'].mean()) / df['attendance'].std()\n"
   ]
  },
  {
   "cell_type": "code",
   "execution_count": null,
   "id": "91d55222",
   "metadata": {},
   "outputs": [],
   "source": [
    "# Do the two variables correlate?\n",
    "correlation = df['attendance'].corr(df['win_ratio'])\n",
    "print(\"correlation: \" + str(correlation))"
   ]
  },
  {
   "cell_type": "markdown",
   "id": "d54c4634",
   "metadata": {},
   "source": [
    "Correlation between attendance and win ratio: 0.2444924229670346 <br>\n",
    "The low positive correlation suggests that there is a weak relationship between the two variables. <br>\n",
    "The correlation is calculated using df.corr(), which uses Pearson correlation coefficient."
   ]
  },
  {
   "cell_type": "code",
   "execution_count": null,
   "id": "67ebb44c",
   "metadata": {},
   "outputs": [],
   "source": [
    "# Print the regression summary (p-value, t-statistic, etc.)\n",
    "X = df['attendance']\n",
    "y = df['win_ratio']\n",
    "model = sm.OLS(y, X).fit()\n",
    "print(model.summary())\n",
    "print('\\nThe p-value is 0.040, which is less than 0.05, so we can reject the null hypothesis.')\n",
    "print('This means that there is a statistically significant relationship between the two variables.')"
   ]
  },
  {
   "cell_type": "code",
   "execution_count": null,
   "id": "92a17a9d",
   "metadata": {},
   "outputs": [],
   "source": [
    "# plot\n",
    "sns.set(style='darkgrid')\n",
    "sns.relplot(\n",
    "            x='attendance', \n",
    "            y='win_ratio', \n",
    "            size=1, \n",
    "            height=10,\n",
    "            aspect=2,\n",
    "            legend=False,\n",
    "            data=df\n",
    "            )\n",
    "\n",
    "legend_elements = [Line2D([0], [0], marker='o', color='w', label='Team', markerfacecolor='blue', markersize=10),\n",
    "]\n",
    "\n",
    "plt.xlabel('Attendance (z-score)')\n",
    "plt.ylabel('Win Ratio')\n",
    "plt.legend(handles=legend_elements, title='Mean team win-ratio \\n each year', loc='upper left', bbox_to_anchor=(1, 1), ncol=5)\n",
    "plt.title('Attendance vs. Win Ratio')\n",
    "\n",
    "\n"
   ]
  },
  {
   "cell_type": "markdown",
   "id": "2fc03145",
   "metadata": {},
   "source": [
    "### Conclusion: There is a weak positive correlation between attendance and win ratio."
   ]
  }
 ],
 "metadata": {
  "kernelspec": {
   "display_name": "Python 3 (ipykernel)",
   "language": "python",
   "name": "python3"
  },
  "language_info": {
   "codemirror_mode": {
    "name": "ipython",
    "version": 3
   },
   "file_extension": ".py",
   "mimetype": "text/x-python",
   "name": "python",
   "nbconvert_exporter": "python",
   "pygments_lexer": "ipython3",
   "version": "3.11.4"
  }
 },
 "nbformat": 4,
 "nbformat_minor": 5
}
